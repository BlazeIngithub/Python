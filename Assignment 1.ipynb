{
 "cells": [
  {
   "cell_type": "markdown",
   "id": "cc42f46d",
   "metadata": {},
   "source": [
    "1. Experiment with multiplying strings or lists with integers and see what happens. \n",
    "Having seen that ;create a variable which holds value ‘xyzxyzxyzxyzxyzxyzxyzxyzxyzxyz’"
   ]
  },
  {
   "cell_type": "code",
   "execution_count": 2,
   "id": "5b14804e",
   "metadata": {},
   "outputs": [
    {
     "name": "stdout",
     "output_type": "stream",
     "text": [
      "xyzxyzxyzxyzxyzxyzxyzxyzxyzxyzxyzxyzxyzxyzxyzxyzxyzxyzxyzxyzxyzxyzxyzxyzxyzxyzxyzxyzxyzxyz\n"
     ]
    }
   ],
   "source": [
    "var= 'xyzxyzxyzxyzxyzxyzxyzxyzxyzxyz'  #variable that holds value\n",
    "\n",
    "#multiplying string\n",
    "\n",
    "var= var*3  \n",
    "print(var)"
   ]
  },
  {
   "cell_type": "code",
   "execution_count": 8,
   "id": "497de9f8",
   "metadata": {},
   "outputs": [
    {
     "name": "stdout",
     "output_type": "stream",
     "text": [
      "xyzxyzxyzxyzxyzxyzxyzxyzxyzxyzabc\n"
     ]
    }
   ],
   "source": [
    "var=var+ 'abc'\n",
    "print(var)"
   ]
  },
  {
   "cell_type": "code",
   "execution_count": 14,
   "id": "1ce5d9a3",
   "metadata": {},
   "outputs": [
    {
     "name": "stdout",
     "output_type": "stream",
     "text": [
      "['apple', 'banana', 'cherry', 'apple', 'banana', 'cherry', 'apple', 'banana', 'cherry']\n",
      "['apple', 'banana', 'cherry', 'apple', 'banana', 'cherry', 'apple', 'banana', 'cherry', 'apple', 'banana', 'cherry', 'apple', 'banana', 'cherry', 'apple', 'banana', 'cherry']\n"
     ]
    }
   ],
   "source": [
    "#multiplying list\n",
    "\n",
    "lst= ['apple', 'banana', 'cherry']\n",
    "\n",
    "lst= lst*3  #multiplying list 3 time\n",
    "print(lst)"
   ]
  },
  {
   "cell_type": "code",
   "execution_count": null,
   "id": "38d03256",
   "metadata": {},
   "outputs": [],
   "source": []
  },
  {
   "cell_type": "markdown",
   "id": "d4c421f8",
   "metadata": {},
   "source": [
    "2. Using list comprehension, list related functions or otherwise, create following list:\n",
    "[[1, 2, 3, 4, 5, 6, 7], [1, 4, 9, 16, 25, 36, 49], [1, 8, 27, 64, 125, 216,343]]\n"
   ]
  },
  {
   "cell_type": "code",
   "execution_count": null,
   "id": "dd021989",
   "metadata": {},
   "outputs": [],
   "source": [
    "lst= [1, 2, 3, 4, 5, 6, 7]\n",
    "lst2= [1, 4, 9, 16, 25, 36, 49]\n",
    "lst3= [1, 8, 27, 64, 125, 216,343]"
   ]
  },
  {
   "cell_type": "code",
   "execution_count": 17,
   "id": "19650134",
   "metadata": {},
   "outputs": [
    {
     "data": {
      "text/plain": [
       "[[1, 1, 1, 1, 1, 1, 1],\n",
       " [2, 4, 8, 16, 32, 64, 128],\n",
       " [3, 9, 27, 81, 243, 729, 2187]]"
      ]
     },
     "execution_count": 17,
     "metadata": {},
     "output_type": "execute_result"
    }
   ],
   "source": [
    "result = [[x**i for i in range(1, 8)] for x in range(1, 4)]\n",
    "result"
   ]
  },
  {
   "cell_type": "markdown",
   "id": "367ec8fe",
   "metadata": {},
   "source": [
    "3. Write a function which takes input as list and returns a list which contains a sequence of 10 equally spaced numbers between min and max of the string if minimum and maximum value of lists is same then it returns a list with 10 zeroes.\n",
    "Example:\n",
    "Input list: [20, 2, 6, 7, 10]\n",
    "output list : [2,4,6,8,10,12,14,16,18,20]\n"
   ]
  },
  {
   "cell_type": "code",
   "execution_count": null,
   "id": "7bebe4e2",
   "metadata": {},
   "outputs": [],
   "source": []
  }
 ],
 "metadata": {
  "kernelspec": {
   "display_name": "Python 3 (ipykernel)",
   "language": "python",
   "name": "python3"
  },
  "language_info": {
   "codemirror_mode": {
    "name": "ipython",
    "version": 3
   },
   "file_extension": ".py",
   "mimetype": "text/x-python",
   "name": "python",
   "nbconvert_exporter": "python",
   "pygments_lexer": "ipython3",
   "version": "3.9.7"
  }
 },
 "nbformat": 4,
 "nbformat_minor": 5
}
